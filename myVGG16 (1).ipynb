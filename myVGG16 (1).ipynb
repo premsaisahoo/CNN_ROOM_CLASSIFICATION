{
  "nbformat": 4,
  "nbformat_minor": 0,
  "metadata": {
    "colab": {
      "name": "myVGG16.ipynb",
      "provenance": []
    },
    "kernelspec": {
      "name": "python3",
      "display_name": "Python 3"
    },
    "language_info": {
      "name": "python"
    },
    "accelerator": "GPU",
    "gpuClass": "standard"
  },
  "cells": [
    {
      "cell_type": "code",
      "metadata": {
        "id": "3cIg5cGKogzT"
      },
      "source": [
        "from tensorflow.keras.layers import Input, Dense, Flatten\n",
        "from tensorflow.keras.models import Model\n",
        "from tensorflow.keras.applications.vgg16 import VGG16\n",
        "from tensorflow.keras.applications.vgg16 import preprocess_input\n",
        "from tensorflow.keras.preprocessing import image\n",
        "from tensorflow.keras.preprocessing.image import ImageDataGenerator\n",
        "from tensorflow.keras.models import Sequential\n",
        "import numpy as np\n",
        "from glob import glob\n",
        "import os\n",
        "#import matplotlib.pyplot as plt\n",
        "\n",
        "import warnings\n",
        "warnings.filterwarnings(\"ignore\", category=FutureWarning)"
      ],
      "execution_count": null,
      "outputs": []
    },
    {
      "cell_type": "code",
      "metadata": {
        "colab": {
          "base_uri": "https://localhost:8080/"
        },
        "id": "nh45IAH0BZXf",
        "outputId": "074bf019-6037-4470-e0a2-6b2a2cbfa1c4"
      },
      "source": [
        "from google.colab import drive\n",
        "drive.mount('/content/drive/')"
      ],
      "execution_count": null,
      "outputs": [
        {
          "output_type": "stream",
          "name": "stdout",
          "text": [
            "Drive already mounted at /content/drive/; to attempt to forcibly remount, call drive.mount(\"/content/drive/\", force_remount=True).\n"
          ]
        }
      ]
    },
    {
      "cell_type": "code",
      "source": [
        "os.chdir(r\"/content/drive/MyDrive\")"
      ],
      "metadata": {
        "id": "vpPKxXpgwCKC"
      },
      "execution_count": null,
      "outputs": []
    },
    {
      "cell_type": "code",
      "metadata": {
        "id": "ZDQU_eC1oxC8"
      },
      "source": [
        "# define image size\n",
        "IMAGE_SIZE = [60, 60]"
      ],
      "execution_count": null,
      "outputs": []
    },
    {
      "cell_type": "code",
      "metadata": {
        "id": "7TUfWiCfo4yp"
      },
      "source": [
        "#Give dataset path\n",
        "train_path = r'/content/drive/MyDrive/room_datasets/train'\n",
        "test_path = r'/content/drive/MyDrive/room_datasets/test'"
      ],
      "execution_count": null,
      "outputs": []
    },
    {
      "cell_type": "code",
      "metadata": {
        "id": "g55ystGGo8f_",
        "colab": {
          "base_uri": "https://localhost:8080/"
        },
        "outputId": "26e87028-30ee-487e-832b-3c4d6fe64126"
      },
      "source": [
        "vgg = VGG16(input_shape=IMAGE_SIZE + [3], weights='imagenet', include_top=False)"
      ],
      "execution_count": null,
      "outputs": [
        {
          "output_type": "stream",
          "name": "stdout",
          "text": [
            "Downloading data from https://storage.googleapis.com/tensorflow/keras-applications/vgg16/vgg16_weights_tf_dim_ordering_tf_kernels_notop.h5\n",
            "58892288/58889256 [==============================] - 0s 0us/step\n",
            "58900480/58889256 [==============================] - 0s 0us/step\n"
          ]
        }
      ]
    },
    {
      "cell_type": "code",
      "metadata": {
        "id": "qyjH84rOpiyv"
      },
      "source": [
        "# don't train existing weights\n",
        "for layer in vgg.layers:\n",
        "  layer.trainable = False"
      ],
      "execution_count": null,
      "outputs": []
    },
    {
      "cell_type": "code",
      "metadata": {
        "colab": {
          "base_uri": "https://localhost:8080/"
        },
        "id": "fwdSzMELpsHy",
        "outputId": "b6232979-6cff-4c6d-f5af-8a2944c3dbce"
      },
      "source": [
        "# useful for getting number of classes\n",
        "folders = os.listdir(r\"/content/drive/MyDrive/room_datasets/train\")\n",
        "print(len(folders))"
      ],
      "execution_count": null,
      "outputs": [
        {
          "output_type": "stream",
          "name": "stdout",
          "text": [
            "3\n"
          ]
        }
      ]
    },
    {
      "cell_type": "code",
      "metadata": {
        "colab": {
          "base_uri": "https://localhost:8080/"
        },
        "id": "CYewn1sQpxNc",
        "outputId": "c23ff681-e98a-464e-e544-46a33865384a"
      },
      "source": [
        "# useful for getting number of classes\n",
        "folders = os.listdir(r\"/content/drive/MyDrive/room_datasets/test\")\n",
        "print(len(folders))"
      ],
      "execution_count": null,
      "outputs": [
        {
          "output_type": "stream",
          "name": "stdout",
          "text": [
            "3\n"
          ]
        }
      ]
    },
    {
      "cell_type": "code",
      "metadata": {
        "colab": {
          "base_uri": "https://localhost:8080/"
        },
        "id": "fYH6JEfmp9af",
        "outputId": "7bee52e9-5a6c-4eaf-dac5-3ee79b690610"
      },
      "source": [
        "x = Flatten()(vgg.output)\n",
        "prediction = Dense(len(folders), activation='softmax')(x)\n",
        "model = Model(inputs=vgg.input, outputs=prediction)\n",
        "model.summary()"
      ],
      "execution_count": null,
      "outputs": [
        {
          "output_type": "stream",
          "name": "stdout",
          "text": [
            "Model: \"model\"\n",
            "_________________________________________________________________\n",
            " Layer (type)                Output Shape              Param #   \n",
            "=================================================================\n",
            " input_1 (InputLayer)        [(None, 60, 60, 3)]       0         \n",
            "                                                                 \n",
            " block1_conv1 (Conv2D)       (None, 60, 60, 64)        1792      \n",
            "                                                                 \n",
            " block1_conv2 (Conv2D)       (None, 60, 60, 64)        36928     \n",
            "                                                                 \n",
            " block1_pool (MaxPooling2D)  (None, 30, 30, 64)        0         \n",
            "                                                                 \n",
            " block2_conv1 (Conv2D)       (None, 30, 30, 128)       73856     \n",
            "                                                                 \n",
            " block2_conv2 (Conv2D)       (None, 30, 30, 128)       147584    \n",
            "                                                                 \n",
            " block2_pool (MaxPooling2D)  (None, 15, 15, 128)       0         \n",
            "                                                                 \n",
            " block3_conv1 (Conv2D)       (None, 15, 15, 256)       295168    \n",
            "                                                                 \n",
            " block3_conv2 (Conv2D)       (None, 15, 15, 256)       590080    \n",
            "                                                                 \n",
            " block3_conv3 (Conv2D)       (None, 15, 15, 256)       590080    \n",
            "                                                                 \n",
            " block3_pool (MaxPooling2D)  (None, 7, 7, 256)         0         \n",
            "                                                                 \n",
            " block4_conv1 (Conv2D)       (None, 7, 7, 512)         1180160   \n",
            "                                                                 \n",
            " block4_conv2 (Conv2D)       (None, 7, 7, 512)         2359808   \n",
            "                                                                 \n",
            " block4_conv3 (Conv2D)       (None, 7, 7, 512)         2359808   \n",
            "                                                                 \n",
            " block4_pool (MaxPooling2D)  (None, 3, 3, 512)         0         \n",
            "                                                                 \n",
            " block5_conv1 (Conv2D)       (None, 3, 3, 512)         2359808   \n",
            "                                                                 \n",
            " block5_conv2 (Conv2D)       (None, 3, 3, 512)         2359808   \n",
            "                                                                 \n",
            " block5_conv3 (Conv2D)       (None, 3, 3, 512)         2359808   \n",
            "                                                                 \n",
            " block5_pool (MaxPooling2D)  (None, 1, 1, 512)         0         \n",
            "                                                                 \n",
            " flatten (Flatten)           (None, 512)               0         \n",
            "                                                                 \n",
            " dense (Dense)               (None, 3)                 1539      \n",
            "                                                                 \n",
            "=================================================================\n",
            "Total params: 14,716,227\n",
            "Trainable params: 1,539\n",
            "Non-trainable params: 14,714,688\n",
            "_________________________________________________________________\n"
          ]
        }
      ]
    },
    {
      "cell_type": "code",
      "metadata": {
        "id": "2jM1Ph8VqXpG"
      },
      "source": [
        "from tensorflow.keras import optimizers\n",
        "\n",
        "\n",
        "sgd = optimizers.SGD(learning_rate=0.0001, decay=1e-6, momentum=0.9)\n",
        "model.compile(loss='categorical_crossentropy',\n",
        "              optimizer=\"sgd\",\n",
        "              metrics=[\"accuracy\"])"
      ],
      "execution_count": null,
      "outputs": []
    },
    {
      "cell_type": "code",
      "metadata": {
        "id": "ipOWXeoyq55w"
      },
      "source": [
        "# Data Augmentation\n",
        "train_datagen = ImageDataGenerator(\n",
        "    preprocessing_function=preprocess_input,\n",
        "    rotation_range=40,\n",
        "    width_shift_range=0.2,\n",
        "    height_shift_range=0.2,\n",
        "    shear_range=0.2,\n",
        "    zoom_range=0.2,\n",
        "    horizontal_flip=True,\n",
        "    fill_mode='nearest')"
      ],
      "execution_count": null,
      "outputs": []
    },
    {
      "cell_type": "code",
      "metadata": {
        "id": "PTFXjEl2rFkp"
      },
      "source": [
        "# Data Augmentation\n",
        "test_datagen = ImageDataGenerator(\n",
        "    preprocessing_function=preprocess_input,\n",
        "    rotation_range=40,\n",
        "    width_shift_range=0.2,\n",
        "    height_shift_range=0.2,\n",
        "    shear_range=0.2,\n",
        "    zoom_range=0.2,\n",
        "    horizontal_flip=True,\n",
        "    fill_mode='nearest')"
      ],
      "execution_count": null,
      "outputs": []
    },
    {
      "cell_type": "code",
      "metadata": {
        "colab": {
          "base_uri": "https://localhost:8080/"
        },
        "id": "yEFJBQCfrIha",
        "outputId": "486d3f1c-effc-4b7e-d44f-fe16f2068970"
      },
      "source": [
        "# Make sure you provide the same target size as initialied for the image size\n",
        "train_set = train_datagen.flow_from_directory(train_path,\n",
        "                                                 target_size = (60, 60),\n",
        "                                                 batch_size = 32,\n",
        "                                                 class_mode = 'categorical')"
      ],
      "execution_count": null,
      "outputs": [
        {
          "output_type": "stream",
          "name": "stdout",
          "text": [
            "Found 133 images belonging to 3 classes.\n"
          ]
        }
      ]
    },
    {
      "cell_type": "code",
      "metadata": {
        "colab": {
          "base_uri": "https://localhost:8080/"
        },
        "id": "eNS6cKoWrQGF",
        "outputId": "e161bfb1-4b0c-4f06-9a44-00b3f64abc95"
      },
      "source": [
        "test_set = test_datagen.flow_from_directory(test_path,\n",
        "                                            target_size = (60, 60),\n",
        "                                            batch_size = 32,\n",
        "                                            class_mode = 'categorical')"
      ],
      "execution_count": null,
      "outputs": [
        {
          "output_type": "stream",
          "name": "stdout",
          "text": [
            "Found 36 images belonging to 3 classes.\n"
          ]
        }
      ]
    },
    {
      "cell_type": "code",
      "source": [
        "import time\n",
        "\n",
        "def get_log_path(log_dir=\"logs/fit\"):\n",
        "  uniqueName = time.strftime(\"log_%Y_%m_%d_%H_%M_%S\")\n",
        "  log_path = os.path.join(log_dir, uniqueName)\n",
        "  print(f\"savings logs at: {log_path}\")\n",
        "\n",
        "  return log_path\n",
        "\n",
        "log_dir = get_log_path()"
      ],
      "metadata": {
        "colab": {
          "base_uri": "https://localhost:8080/"
        },
        "id": "KQD9yttSx8_y",
        "outputId": "6745b9f2-3143-4e76-9a3f-672462bd7893"
      },
      "execution_count": null,
      "outputs": [
        {
          "output_type": "stream",
          "name": "stdout",
          "text": [
            "savings logs at: logs/fit/log_2022_07_07_17_49_28\n"
          ]
        }
      ]
    },
    {
      "cell_type": "code",
      "source": [
        "import tensorflow as tf\n",
        "file_writer = tf.summary.create_file_writer(logdir=log_dir)\n"
      ],
      "metadata": {
        "id": "2tgR8e3byC-a"
      },
      "execution_count": null,
      "outputs": []
    },
    {
      "cell_type": "code",
      "source": [
        "tensorboard_cb = tf.keras.callbacks.TensorBoard(log_dir=log_dir)\n",
        "early_stopping_cb = tf.keras.callbacks.EarlyStopping(patience=100, restore_best_weights=True)\n",
        "CKPT_path = \"model_ckpt.h5\""
      ],
      "metadata": {
        "id": "_vU-LWUhx0h9"
      },
      "execution_count": null,
      "outputs": []
    },
    {
      "cell_type": "code",
      "source": [
        "\n",
        "checkpointing_cb = tf.keras.callbacks.ModelCheckpoint(CKPT_path, save_best_only=True)\n",
        "CALLBACKS_LIST = [tensorboard_cb, early_stopping_cb, checkpointing_cb]"
      ],
      "metadata": {
        "id": "Vlt9Pmzex0NW"
      },
      "execution_count": null,
      "outputs": []
    },
    {
      "cell_type": "code",
      "source": [
        "history = model.fit(train_set, epochs=200, validation_data=test_set,callbacks=CALLBACKS_LIST)"
      ],
      "metadata": {
        "colab": {
          "base_uri": "https://localhost:8080/"
        },
        "id": "0bb8lKWSxzg8",
        "outputId": "18df7122-5c62-4f47-f5d4-6e7ca4e76c68"
      },
      "execution_count": null,
      "outputs": [
        {
          "output_type": "stream",
          "name": "stdout",
          "text": [
            "Epoch 1/200\n",
            "2/5 [===========>..................] - ETA: 1s - loss: 7.3196 - accuracy: 0.5469"
          ]
        },
        {
          "output_type": "stream",
          "name": "stderr",
          "text": [
            "/usr/local/lib/python3.7/dist-packages/PIL/TiffImagePlugin.py:788: UserWarning: Corrupt EXIF data.  Expecting to read 4 bytes but only got 0. \n",
            "  warnings.warn(str(msg))\n"
          ]
        },
        {
          "output_type": "stream",
          "name": "stdout",
          "text": [
            "5/5 [==============================] - 4s 770ms/step - loss: 17.1126 - accuracy: 0.4511 - val_loss: 47.4384 - val_accuracy: 0.4722\n",
            "Epoch 2/200\n",
            "5/5 [==============================] - 4s 672ms/step - loss: 19.9777 - accuracy: 0.5038 - val_loss: 22.2898 - val_accuracy: 0.6111\n",
            "Epoch 3/200\n",
            "5/5 [==============================] - 3s 719ms/step - loss: 8.6638 - accuracy: 0.6917 - val_loss: 25.4121 - val_accuracy: 0.5556\n",
            "Epoch 4/200\n",
            "5/5 [==============================] - 3s 696ms/step - loss: 10.8348 - accuracy: 0.6692 - val_loss: 28.8965 - val_accuracy: 0.5000\n",
            "Epoch 5/200\n",
            "5/5 [==============================] - 4s 736ms/step - loss: 15.6637 - accuracy: 0.5940 - val_loss: 12.7713 - val_accuracy: 0.7222\n",
            "Epoch 6/200\n",
            "5/5 [==============================] - 4s 619ms/step - loss: 25.2763 - accuracy: 0.6165 - val_loss: 12.1793 - val_accuracy: 0.7222\n",
            "Epoch 7/200\n",
            "5/5 [==============================] - 3s 712ms/step - loss: 8.0420 - accuracy: 0.7293 - val_loss: 14.3858 - val_accuracy: 0.6667\n",
            "Epoch 8/200\n",
            "5/5 [==============================] - 3s 758ms/step - loss: 10.2588 - accuracy: 0.6992 - val_loss: 19.4520 - val_accuracy: 0.6111\n",
            "Epoch 9/200\n",
            "5/5 [==============================] - 3s 761ms/step - loss: 26.0976 - accuracy: 0.6015 - val_loss: 25.1567 - val_accuracy: 0.6111\n",
            "Epoch 10/200\n",
            "5/5 [==============================] - 4s 704ms/step - loss: 17.3968 - accuracy: 0.6391 - val_loss: 7.8248 - val_accuracy: 0.6667\n",
            "Epoch 11/200\n",
            "5/5 [==============================] - 3s 840ms/step - loss: 12.1535 - accuracy: 0.6541 - val_loss: 18.4955 - val_accuracy: 0.6667\n",
            "Epoch 12/200\n",
            "5/5 [==============================] - 3s 730ms/step - loss: 6.4589 - accuracy: 0.8271 - val_loss: 16.7945 - val_accuracy: 0.6944\n",
            "Epoch 13/200\n",
            "5/5 [==============================] - 4s 740ms/step - loss: 14.1797 - accuracy: 0.6917 - val_loss: 7.5914 - val_accuracy: 0.7778\n",
            "Epoch 14/200\n",
            "5/5 [==============================] - 4s 835ms/step - loss: 16.1497 - accuracy: 0.6617 - val_loss: 10.5347 - val_accuracy: 0.6944\n",
            "Epoch 15/200\n",
            "5/5 [==============================] - 3s 661ms/step - loss: 9.8925 - accuracy: 0.7368 - val_loss: 11.1297 - val_accuracy: 0.6667\n",
            "Epoch 16/200\n",
            "5/5 [==============================] - 4s 660ms/step - loss: 5.3751 - accuracy: 0.7444 - val_loss: 13.4729 - val_accuracy: 0.6389\n",
            "Epoch 17/200\n",
            "5/5 [==============================] - 4s 685ms/step - loss: 10.3522 - accuracy: 0.7368 - val_loss: 30.6642 - val_accuracy: 0.4722\n",
            "Epoch 18/200\n",
            "5/5 [==============================] - 3s 668ms/step - loss: 9.4972 - accuracy: 0.7368 - val_loss: 13.9735 - val_accuracy: 0.6944\n",
            "Epoch 19/200\n",
            "5/5 [==============================] - 3s 776ms/step - loss: 9.2988 - accuracy: 0.7293 - val_loss: 12.5750 - val_accuracy: 0.6944\n",
            "Epoch 20/200\n",
            "5/5 [==============================] - 4s 734ms/step - loss: 15.5426 - accuracy: 0.6992 - val_loss: 12.6761 - val_accuracy: 0.6111\n",
            "Epoch 21/200\n",
            "5/5 [==============================] - 4s 681ms/step - loss: 11.8811 - accuracy: 0.7068 - val_loss: 18.2361 - val_accuracy: 0.5833\n",
            "Epoch 22/200\n",
            "5/5 [==============================] - 3s 823ms/step - loss: 9.0370 - accuracy: 0.7368 - val_loss: 18.6792 - val_accuracy: 0.6944\n",
            "Epoch 23/200\n",
            "5/5 [==============================] - 3s 745ms/step - loss: 8.5658 - accuracy: 0.8045 - val_loss: 14.8038 - val_accuracy: 0.7222\n",
            "Epoch 24/200\n",
            "5/5 [==============================] - 3s 744ms/step - loss: 12.3401 - accuracy: 0.7218 - val_loss: 9.9594 - val_accuracy: 0.7500\n",
            "Epoch 25/200\n",
            "5/5 [==============================] - 3s 693ms/step - loss: 7.9192 - accuracy: 0.8045 - val_loss: 12.7136 - val_accuracy: 0.7222\n",
            "Epoch 26/200\n",
            "5/5 [==============================] - 3s 655ms/step - loss: 11.5239 - accuracy: 0.7970 - val_loss: 12.9031 - val_accuracy: 0.6944\n",
            "Epoch 27/200\n",
            "5/5 [==============================] - 4s 823ms/step - loss: 3.7108 - accuracy: 0.8722 - val_loss: 5.3830 - val_accuracy: 0.7778\n",
            "Epoch 28/200\n",
            "5/5 [==============================] - 3s 763ms/step - loss: 4.5618 - accuracy: 0.8421 - val_loss: 9.0146 - val_accuracy: 0.7500\n",
            "Epoch 29/200\n",
            "5/5 [==============================] - 4s 855ms/step - loss: 8.1277 - accuracy: 0.7820 - val_loss: 8.8910 - val_accuracy: 0.7222\n",
            "Epoch 30/200\n",
            "5/5 [==============================] - 4s 742ms/step - loss: 9.3362 - accuracy: 0.7519 - val_loss: 5.2949 - val_accuracy: 0.7778\n",
            "Epoch 31/200\n",
            "5/5 [==============================] - 3s 670ms/step - loss: 10.9285 - accuracy: 0.7293 - val_loss: 22.7487 - val_accuracy: 0.6111\n",
            "Epoch 32/200\n",
            "5/5 [==============================] - 3s 746ms/step - loss: 9.0098 - accuracy: 0.7895 - val_loss: 15.0294 - val_accuracy: 0.7500\n",
            "Epoch 33/200\n",
            "5/5 [==============================] - 4s 737ms/step - loss: 16.8739 - accuracy: 0.7519 - val_loss: 19.2461 - val_accuracy: 0.5278\n",
            "Epoch 34/200\n",
            "5/5 [==============================] - 3s 627ms/step - loss: 5.4018 - accuracy: 0.7895 - val_loss: 20.9271 - val_accuracy: 0.5833\n",
            "Epoch 35/200\n",
            "5/5 [==============================] - 3s 813ms/step - loss: 8.9959 - accuracy: 0.7444 - val_loss: 19.4918 - val_accuracy: 0.5833\n",
            "Epoch 36/200\n",
            "5/5 [==============================] - 3s 673ms/step - loss: 6.5510 - accuracy: 0.7895 - val_loss: 7.4414 - val_accuracy: 0.8611\n",
            "Epoch 37/200\n",
            "5/5 [==============================] - 3s 697ms/step - loss: 11.2507 - accuracy: 0.6692 - val_loss: 13.9856 - val_accuracy: 0.5556\n",
            "Epoch 38/200\n",
            "5/5 [==============================] - 3s 708ms/step - loss: 9.5386 - accuracy: 0.7444 - val_loss: 10.2053 - val_accuracy: 0.6667\n",
            "Epoch 39/200\n",
            "5/5 [==============================] - 4s 704ms/step - loss: 6.3254 - accuracy: 0.8421 - val_loss: 6.2947 - val_accuracy: 0.8333\n",
            "Epoch 40/200\n",
            "5/5 [==============================] - 3s 758ms/step - loss: 4.2584 - accuracy: 0.8647 - val_loss: 9.3748 - val_accuracy: 0.6389\n",
            "Epoch 41/200\n",
            "5/5 [==============================] - 3s 837ms/step - loss: 16.2381 - accuracy: 0.6917 - val_loss: 8.8050 - val_accuracy: 0.8056\n",
            "Epoch 42/200\n",
            "5/5 [==============================] - 3s 760ms/step - loss: 5.4447 - accuracy: 0.8271 - val_loss: 12.0258 - val_accuracy: 0.7500\n",
            "Epoch 43/200\n",
            "5/5 [==============================] - 3s 711ms/step - loss: 8.8686 - accuracy: 0.8271 - val_loss: 10.5012 - val_accuracy: 0.6944\n",
            "Epoch 44/200\n",
            "5/5 [==============================] - 4s 765ms/step - loss: 3.9595 - accuracy: 0.8872 - val_loss: 11.1868 - val_accuracy: 0.7222\n",
            "Epoch 45/200\n",
            "5/5 [==============================] - 3s 842ms/step - loss: 6.1529 - accuracy: 0.8045 - val_loss: 10.4002 - val_accuracy: 0.8333\n",
            "Epoch 46/200\n",
            "5/5 [==============================] - 3s 705ms/step - loss: 3.5761 - accuracy: 0.8421 - val_loss: 25.4752 - val_accuracy: 0.6667\n",
            "Epoch 47/200\n",
            "5/5 [==============================] - 3s 754ms/step - loss: 9.5724 - accuracy: 0.7970 - val_loss: 11.6282 - val_accuracy: 0.6389\n",
            "Epoch 48/200\n",
            "5/5 [==============================] - 4s 732ms/step - loss: 6.7843 - accuracy: 0.7970 - val_loss: 20.2689 - val_accuracy: 0.6111\n",
            "Epoch 49/200\n",
            "5/5 [==============================] - 3s 844ms/step - loss: 8.9028 - accuracy: 0.7744 - val_loss: 14.3214 - val_accuracy: 0.7222\n",
            "Epoch 50/200\n",
            "5/5 [==============================] - 4s 703ms/step - loss: 6.3196 - accuracy: 0.8045 - val_loss: 15.5188 - val_accuracy: 0.6667\n",
            "Epoch 51/200\n",
            "5/5 [==============================] - 3s 836ms/step - loss: 8.5258 - accuracy: 0.7895 - val_loss: 7.3715 - val_accuracy: 0.7500\n",
            "Epoch 52/200\n",
            "5/5 [==============================] - 3s 836ms/step - loss: 4.7131 - accuracy: 0.8421 - val_loss: 9.0601 - val_accuracy: 0.7778\n",
            "Epoch 53/200\n",
            "5/5 [==============================] - 4s 670ms/step - loss: 3.6829 - accuracy: 0.8496 - val_loss: 27.3697 - val_accuracy: 0.5556\n",
            "Epoch 54/200\n",
            "5/5 [==============================] - 3s 683ms/step - loss: 10.7907 - accuracy: 0.7669 - val_loss: 11.3922 - val_accuracy: 0.7500\n",
            "Epoch 55/200\n",
            "5/5 [==============================] - 3s 833ms/step - loss: 13.1587 - accuracy: 0.7143 - val_loss: 9.0636 - val_accuracy: 0.7500\n",
            "Epoch 56/200\n",
            "5/5 [==============================] - 3s 742ms/step - loss: 5.8110 - accuracy: 0.8271 - val_loss: 11.5125 - val_accuracy: 0.6389\n",
            "Epoch 57/200\n",
            "5/5 [==============================] - 3s 719ms/step - loss: 9.8575 - accuracy: 0.7669 - val_loss: 14.3993 - val_accuracy: 0.6944\n",
            "Epoch 58/200\n",
            "5/5 [==============================] - 3s 853ms/step - loss: 6.6911 - accuracy: 0.7970 - val_loss: 9.2935 - val_accuracy: 0.7222\n",
            "Epoch 59/200\n",
            "5/5 [==============================] - 3s 655ms/step - loss: 6.3521 - accuracy: 0.7895 - val_loss: 14.0765 - val_accuracy: 0.5833\n",
            "Epoch 60/200\n",
            "5/5 [==============================] - 3s 725ms/step - loss: 7.5408 - accuracy: 0.8045 - val_loss: 17.5408 - val_accuracy: 0.5833\n",
            "Epoch 61/200\n",
            "5/5 [==============================] - 3s 760ms/step - loss: 9.0410 - accuracy: 0.7444 - val_loss: 13.6224 - val_accuracy: 0.6111\n",
            "Epoch 62/200\n",
            "5/5 [==============================] - 3s 854ms/step - loss: 10.1889 - accuracy: 0.7519 - val_loss: 15.3307 - val_accuracy: 0.5556\n",
            "Epoch 63/200\n",
            "5/5 [==============================] - 3s 681ms/step - loss: 6.3008 - accuracy: 0.8045 - val_loss: 16.8328 - val_accuracy: 0.6389\n",
            "Epoch 64/200\n",
            "5/5 [==============================] - 3s 665ms/step - loss: 6.4451 - accuracy: 0.8045 - val_loss: 12.2244 - val_accuracy: 0.6667\n",
            "Epoch 65/200\n",
            "5/5 [==============================] - 3s 535ms/step - loss: 3.9761 - accuracy: 0.8271 - val_loss: 18.7145 - val_accuracy: 0.5278\n",
            "Epoch 66/200\n",
            "5/5 [==============================] - 3s 701ms/step - loss: 5.3147 - accuracy: 0.8120 - val_loss: 12.5342 - val_accuracy: 0.5556\n",
            "Epoch 67/200\n",
            "5/5 [==============================] - 3s 723ms/step - loss: 6.2603 - accuracy: 0.8195 - val_loss: 18.6438 - val_accuracy: 0.6667\n",
            "Epoch 68/200\n",
            "5/5 [==============================] - 4s 763ms/step - loss: 9.4605 - accuracy: 0.7820 - val_loss: 24.6326 - val_accuracy: 0.5000\n",
            "Epoch 69/200\n",
            "5/5 [==============================] - 3s 835ms/step - loss: 11.7433 - accuracy: 0.7970 - val_loss: 13.3009 - val_accuracy: 0.6111\n",
            "Epoch 70/200\n",
            "5/5 [==============================] - 3s 595ms/step - loss: 7.4017 - accuracy: 0.8271 - val_loss: 20.2736 - val_accuracy: 0.6944\n",
            "Epoch 71/200\n",
            "5/5 [==============================] - 3s 677ms/step - loss: 8.1173 - accuracy: 0.7744 - val_loss: 17.1446 - val_accuracy: 0.6111\n",
            "Epoch 72/200\n",
            "5/5 [==============================] - 3s 710ms/step - loss: 3.7142 - accuracy: 0.8797 - val_loss: 23.7831 - val_accuracy: 0.6944\n",
            "Epoch 73/200\n",
            "5/5 [==============================] - 3s 646ms/step - loss: 11.1299 - accuracy: 0.7293 - val_loss: 11.7322 - val_accuracy: 0.6667\n",
            "Epoch 74/200\n",
            "5/5 [==============================] - 3s 687ms/step - loss: 5.7854 - accuracy: 0.8346 - val_loss: 17.3554 - val_accuracy: 0.5000\n",
            "Epoch 75/200\n",
            "5/5 [==============================] - 3s 689ms/step - loss: 6.0116 - accuracy: 0.8346 - val_loss: 15.7945 - val_accuracy: 0.5833\n",
            "Epoch 76/200\n",
            "5/5 [==============================] - 3s 828ms/step - loss: 5.3768 - accuracy: 0.8120 - val_loss: 20.7269 - val_accuracy: 0.6389\n",
            "Epoch 77/200\n",
            "5/5 [==============================] - 3s 629ms/step - loss: 7.2557 - accuracy: 0.8045 - val_loss: 15.7909 - val_accuracy: 0.6944\n",
            "Epoch 78/200\n",
            "5/5 [==============================] - 3s 714ms/step - loss: 4.2365 - accuracy: 0.8571 - val_loss: 16.9606 - val_accuracy: 0.7222\n",
            "Epoch 79/200\n",
            "5/5 [==============================] - 4s 911ms/step - loss: 4.3928 - accuracy: 0.8421 - val_loss: 2.8914 - val_accuracy: 0.8333\n",
            "Epoch 80/200\n",
            "5/5 [==============================] - 3s 694ms/step - loss: 6.1916 - accuracy: 0.8195 - val_loss: 24.1135 - val_accuracy: 0.5278\n",
            "Epoch 81/200\n",
            "5/5 [==============================] - 4s 770ms/step - loss: 8.6027 - accuracy: 0.7594 - val_loss: 14.3599 - val_accuracy: 0.7222\n",
            "Epoch 82/200\n",
            "5/5 [==============================] - 3s 652ms/step - loss: 5.0933 - accuracy: 0.8496 - val_loss: 20.3020 - val_accuracy: 0.6944\n",
            "Epoch 83/200\n",
            "5/5 [==============================] - 4s 731ms/step - loss: 6.3578 - accuracy: 0.8496 - val_loss: 16.8121 - val_accuracy: 0.6111\n",
            "Epoch 84/200\n",
            "5/5 [==============================] - 3s 750ms/step - loss: 11.0097 - accuracy: 0.7669 - val_loss: 11.5093 - val_accuracy: 0.7222\n",
            "Epoch 85/200\n",
            "5/5 [==============================] - 4s 632ms/step - loss: 7.8488 - accuracy: 0.7970 - val_loss: 13.4438 - val_accuracy: 0.5833\n",
            "Epoch 86/200\n",
            "5/5 [==============================] - 4s 704ms/step - loss: 14.0705 - accuracy: 0.8271 - val_loss: 22.2037 - val_accuracy: 0.6389\n",
            "Epoch 87/200\n",
            "5/5 [==============================] - 4s 747ms/step - loss: 8.0304 - accuracy: 0.7820 - val_loss: 17.6536 - val_accuracy: 0.7778\n",
            "Epoch 88/200\n",
            "5/5 [==============================] - 4s 710ms/step - loss: 7.1333 - accuracy: 0.8195 - val_loss: 17.1604 - val_accuracy: 0.6944\n",
            "Epoch 89/200\n",
            "5/5 [==============================] - 4s 671ms/step - loss: 6.0326 - accuracy: 0.7895 - val_loss: 21.5201 - val_accuracy: 0.6389\n",
            "Epoch 90/200\n",
            "5/5 [==============================] - 4s 740ms/step - loss: 6.7562 - accuracy: 0.8045 - val_loss: 23.4761 - val_accuracy: 0.6111\n",
            "Epoch 91/200\n",
            "5/5 [==============================] - 3s 658ms/step - loss: 3.9356 - accuracy: 0.8647 - val_loss: 12.9202 - val_accuracy: 0.7500\n",
            "Epoch 92/200\n",
            "5/5 [==============================] - 3s 850ms/step - loss: 6.4054 - accuracy: 0.8045 - val_loss: 12.5851 - val_accuracy: 0.6667\n",
            "Epoch 93/200\n",
            "5/5 [==============================] - 4s 731ms/step - loss: 4.7736 - accuracy: 0.8346 - val_loss: 9.6608 - val_accuracy: 0.6944\n",
            "Epoch 94/200\n",
            "5/5 [==============================] - 4s 640ms/step - loss: 7.2547 - accuracy: 0.7594 - val_loss: 11.4086 - val_accuracy: 0.7222\n",
            "Epoch 95/200\n",
            "5/5 [==============================] - 4s 688ms/step - loss: 9.4339 - accuracy: 0.8195 - val_loss: 10.5763 - val_accuracy: 0.7500\n",
            "Epoch 96/200\n",
            "5/5 [==============================] - 4s 609ms/step - loss: 8.0674 - accuracy: 0.8195 - val_loss: 10.4760 - val_accuracy: 0.6944\n",
            "Epoch 97/200\n",
            "5/5 [==============================] - 4s 764ms/step - loss: 5.7224 - accuracy: 0.8421 - val_loss: 14.4820 - val_accuracy: 0.6944\n",
            "Epoch 98/200\n",
            "5/5 [==============================] - 4s 711ms/step - loss: 6.6320 - accuracy: 0.7820 - val_loss: 10.5414 - val_accuracy: 0.7500\n",
            "Epoch 99/200\n",
            "5/5 [==============================] - 4s 737ms/step - loss: 4.5807 - accuracy: 0.8647 - val_loss: 6.5567 - val_accuracy: 0.7500\n",
            "Epoch 100/200\n",
            "5/5 [==============================] - 4s 664ms/step - loss: 5.4077 - accuracy: 0.8421 - val_loss: 9.5165 - val_accuracy: 0.7500\n",
            "Epoch 101/200\n",
            "5/5 [==============================] - 4s 700ms/step - loss: 4.8024 - accuracy: 0.8797 - val_loss: 11.3350 - val_accuracy: 0.7222\n",
            "Epoch 102/200\n",
            "5/5 [==============================] - 4s 754ms/step - loss: 3.3967 - accuracy: 0.8647 - val_loss: 18.9976 - val_accuracy: 0.6389\n",
            "Epoch 103/200\n",
            "5/5 [==============================] - 4s 680ms/step - loss: 7.8996 - accuracy: 0.7820 - val_loss: 12.8442 - val_accuracy: 0.6944\n",
            "Epoch 104/200\n",
            "5/5 [==============================] - 4s 764ms/step - loss: 5.2321 - accuracy: 0.8045 - val_loss: 11.5192 - val_accuracy: 0.6111\n",
            "Epoch 105/200\n",
            "5/5 [==============================] - 4s 774ms/step - loss: 6.9633 - accuracy: 0.7895 - val_loss: 13.9720 - val_accuracy: 0.6389\n",
            "Epoch 106/200\n",
            "5/5 [==============================] - 4s 755ms/step - loss: 6.0482 - accuracy: 0.8195 - val_loss: 17.4365 - val_accuracy: 0.7222\n",
            "Epoch 107/200\n",
            "5/5 [==============================] - 4s 750ms/step - loss: 12.4841 - accuracy: 0.7293 - val_loss: 21.5760 - val_accuracy: 0.5556\n",
            "Epoch 108/200\n",
            "5/5 [==============================] - 4s 865ms/step - loss: 7.4548 - accuracy: 0.8346 - val_loss: 14.1830 - val_accuracy: 0.6944\n",
            "Epoch 109/200\n",
            "5/5 [==============================] - 4s 728ms/step - loss: 5.5897 - accuracy: 0.8120 - val_loss: 12.3675 - val_accuracy: 0.7500\n",
            "Epoch 110/200\n",
            "5/5 [==============================] - 4s 850ms/step - loss: 4.4196 - accuracy: 0.8271 - val_loss: 8.0117 - val_accuracy: 0.8611\n",
            "Epoch 111/200\n",
            "5/5 [==============================] - 4s 732ms/step - loss: 6.0346 - accuracy: 0.8647 - val_loss: 6.1376 - val_accuracy: 0.8333\n",
            "Epoch 112/200\n",
            "5/5 [==============================] - 4s 680ms/step - loss: 7.2486 - accuracy: 0.8195 - val_loss: 11.9831 - val_accuracy: 0.7778\n",
            "Epoch 113/200\n",
            "5/5 [==============================] - 4s 743ms/step - loss: 4.1450 - accuracy: 0.9023 - val_loss: 20.8645 - val_accuracy: 0.6389\n",
            "Epoch 114/200\n",
            "5/5 [==============================] - 4s 762ms/step - loss: 5.5981 - accuracy: 0.8195 - val_loss: 8.2057 - val_accuracy: 0.8056\n",
            "Epoch 115/200\n",
            "5/5 [==============================] - 4s 669ms/step - loss: 5.8787 - accuracy: 0.8120 - val_loss: 22.3493 - val_accuracy: 0.6667\n",
            "Epoch 116/200\n",
            "5/5 [==============================] - 4s 676ms/step - loss: 3.3867 - accuracy: 0.8797 - val_loss: 12.3767 - val_accuracy: 0.7500\n",
            "Epoch 117/200\n",
            "5/5 [==============================] - 4s 752ms/step - loss: 5.5937 - accuracy: 0.8647 - val_loss: 9.7085 - val_accuracy: 0.7778\n",
            "Epoch 118/200\n",
            "5/5 [==============================] - 4s 769ms/step - loss: 4.2604 - accuracy: 0.8271 - val_loss: 13.5190 - val_accuracy: 0.5833\n",
            "Epoch 119/200\n",
            "5/5 [==============================] - 4s 695ms/step - loss: 5.3963 - accuracy: 0.8346 - val_loss: 19.8265 - val_accuracy: 0.6667\n",
            "Epoch 120/200\n",
            "5/5 [==============================] - 4s 721ms/step - loss: 4.2003 - accuracy: 0.8496 - val_loss: 7.9635 - val_accuracy: 0.8056\n",
            "Epoch 121/200\n",
            "5/5 [==============================] - 4s 711ms/step - loss: 10.1403 - accuracy: 0.7669 - val_loss: 22.1106 - val_accuracy: 0.6111\n",
            "Epoch 122/200\n",
            "5/5 [==============================] - 4s 658ms/step - loss: 6.3104 - accuracy: 0.8271 - val_loss: 15.3633 - val_accuracy: 0.6667\n",
            "Epoch 123/200\n",
            "5/5 [==============================] - 4s 700ms/step - loss: 4.3048 - accuracy: 0.9023 - val_loss: 10.1689 - val_accuracy: 0.7222\n",
            "Epoch 124/200\n",
            "5/5 [==============================] - 4s 715ms/step - loss: 5.3633 - accuracy: 0.8496 - val_loss: 8.9744 - val_accuracy: 0.8056\n",
            "Epoch 125/200\n",
            "5/5 [==============================] - 4s 702ms/step - loss: 5.5242 - accuracy: 0.8496 - val_loss: 19.7062 - val_accuracy: 0.5833\n",
            "Epoch 126/200\n",
            "5/5 [==============================] - 4s 859ms/step - loss: 10.1914 - accuracy: 0.7744 - val_loss: 10.5361 - val_accuracy: 0.7500\n",
            "Epoch 127/200\n",
            "5/5 [==============================] - 4s 692ms/step - loss: 5.8508 - accuracy: 0.8346 - val_loss: 8.3174 - val_accuracy: 0.6667\n",
            "Epoch 128/200\n",
            "5/5 [==============================] - 4s 714ms/step - loss: 5.7825 - accuracy: 0.7895 - val_loss: 14.3607 - val_accuracy: 0.5278\n",
            "Epoch 129/200\n",
            "5/5 [==============================] - 4s 730ms/step - loss: 2.6396 - accuracy: 0.8722 - val_loss: 14.2407 - val_accuracy: 0.6944\n",
            "Epoch 130/200\n",
            "5/5 [==============================] - 4s 713ms/step - loss: 5.7784 - accuracy: 0.8647 - val_loss: 12.7638 - val_accuracy: 0.7500\n",
            "Epoch 131/200\n",
            "5/5 [==============================] - 4s 710ms/step - loss: 3.2229 - accuracy: 0.8872 - val_loss: 18.6025 - val_accuracy: 0.4722\n",
            "Epoch 132/200\n",
            "5/5 [==============================] - 4s 706ms/step - loss: 5.1540 - accuracy: 0.8571 - val_loss: 10.1314 - val_accuracy: 0.6944\n",
            "Epoch 133/200\n",
            "5/5 [==============================] - 4s 635ms/step - loss: 4.1785 - accuracy: 0.8421 - val_loss: 4.1193 - val_accuracy: 0.8611\n",
            "Epoch 134/200\n",
            "5/5 [==============================] - 4s 665ms/step - loss: 7.1124 - accuracy: 0.8571 - val_loss: 17.9398 - val_accuracy: 0.6389\n",
            "Epoch 135/200\n",
            "5/5 [==============================] - 4s 888ms/step - loss: 5.3968 - accuracy: 0.8571 - val_loss: 19.3996 - val_accuracy: 0.5833\n",
            "Epoch 136/200\n",
            "5/5 [==============================] - 4s 688ms/step - loss: 6.1373 - accuracy: 0.7895 - val_loss: 11.7677 - val_accuracy: 0.6667\n",
            "Epoch 137/200\n",
            "5/5 [==============================] - 4s 717ms/step - loss: 10.6936 - accuracy: 0.7820 - val_loss: 9.5149 - val_accuracy: 0.6944\n",
            "Epoch 138/200\n",
            "5/5 [==============================] - 4s 529ms/step - loss: 6.1759 - accuracy: 0.7820 - val_loss: 16.0351 - val_accuracy: 0.6667\n",
            "Epoch 139/200\n",
            "5/5 [==============================] - 4s 667ms/step - loss: 5.6388 - accuracy: 0.8421 - val_loss: 12.5565 - val_accuracy: 0.6944\n",
            "Epoch 140/200\n",
            "5/5 [==============================] - 4s 766ms/step - loss: 5.2554 - accuracy: 0.8421 - val_loss: 14.8053 - val_accuracy: 0.6944\n",
            "Epoch 141/200\n",
            "5/5 [==============================] - 4s 703ms/step - loss: 3.3232 - accuracy: 0.8797 - val_loss: 17.2189 - val_accuracy: 0.5278\n",
            "Epoch 142/200\n",
            "5/5 [==============================] - 4s 669ms/step - loss: 5.3160 - accuracy: 0.8496 - val_loss: 13.7816 - val_accuracy: 0.6111\n",
            "Epoch 143/200\n",
            "5/5 [==============================] - 4s 631ms/step - loss: 6.9846 - accuracy: 0.8195 - val_loss: 16.7855 - val_accuracy: 0.6111\n",
            "Epoch 144/200\n",
            "5/5 [==============================] - 4s 693ms/step - loss: 10.5443 - accuracy: 0.7293 - val_loss: 14.5841 - val_accuracy: 0.5833\n",
            "Epoch 145/200\n",
            "5/5 [==============================] - 4s 756ms/step - loss: 6.6774 - accuracy: 0.8045 - val_loss: 11.4362 - val_accuracy: 0.8333\n",
            "Epoch 146/200\n",
            "5/5 [==============================] - 4s 855ms/step - loss: 6.8945 - accuracy: 0.8045 - val_loss: 16.4082 - val_accuracy: 0.6667\n",
            "Epoch 147/200\n",
            "5/5 [==============================] - 4s 763ms/step - loss: 9.5844 - accuracy: 0.7519 - val_loss: 12.4876 - val_accuracy: 0.7222\n",
            "Epoch 148/200\n",
            "5/5 [==============================] - 4s 724ms/step - loss: 8.8075 - accuracy: 0.7895 - val_loss: 44.9240 - val_accuracy: 0.5278\n",
            "Epoch 149/200\n",
            "5/5 [==============================] - 4s 684ms/step - loss: 7.1972 - accuracy: 0.7970 - val_loss: 21.0576 - val_accuracy: 0.6111\n",
            "Epoch 150/200\n",
            "5/5 [==============================] - 4s 762ms/step - loss: 5.4081 - accuracy: 0.8496 - val_loss: 34.0811 - val_accuracy: 0.4167\n",
            "Epoch 151/200\n",
            "5/5 [==============================] - 4s 681ms/step - loss: 7.4711 - accuracy: 0.7895 - val_loss: 14.5380 - val_accuracy: 0.8056\n",
            "Epoch 152/200\n",
            "5/5 [==============================] - 4s 628ms/step - loss: 5.1160 - accuracy: 0.8271 - val_loss: 20.3516 - val_accuracy: 0.5833\n",
            "Epoch 153/200\n",
            "5/5 [==============================] - 4s 722ms/step - loss: 6.3152 - accuracy: 0.8571 - val_loss: 11.1745 - val_accuracy: 0.6944\n",
            "Epoch 154/200\n",
            "5/5 [==============================] - 4s 742ms/step - loss: 6.1196 - accuracy: 0.8346 - val_loss: 13.9085 - val_accuracy: 0.6944\n",
            "Epoch 155/200\n",
            "5/5 [==============================] - 4s 879ms/step - loss: 2.7833 - accuracy: 0.8722 - val_loss: 17.3773 - val_accuracy: 0.6389\n",
            "Epoch 156/200\n",
            "5/5 [==============================] - 5s 715ms/step - loss: 3.3385 - accuracy: 0.8947 - val_loss: 21.5708 - val_accuracy: 0.6944\n",
            "Epoch 157/200\n",
            "5/5 [==============================] - 4s 673ms/step - loss: 10.2872 - accuracy: 0.7368 - val_loss: 20.6234 - val_accuracy: 0.5556\n",
            "Epoch 158/200\n",
            "5/5 [==============================] - 4s 627ms/step - loss: 6.5708 - accuracy: 0.8421 - val_loss: 4.6130 - val_accuracy: 0.6944\n",
            "Epoch 159/200\n",
            "5/5 [==============================] - 4s 870ms/step - loss: 6.1041 - accuracy: 0.7970 - val_loss: 15.9902 - val_accuracy: 0.6667\n",
            "Epoch 160/200\n",
            "5/5 [==============================] - 4s 647ms/step - loss: 4.8927 - accuracy: 0.8421 - val_loss: 17.8314 - val_accuracy: 0.6944\n",
            "Epoch 161/200\n",
            "5/5 [==============================] - 4s 687ms/step - loss: 7.5802 - accuracy: 0.7744 - val_loss: 11.5884 - val_accuracy: 0.6944\n",
            "Epoch 162/200\n",
            "5/5 [==============================] - 4s 645ms/step - loss: 4.2892 - accuracy: 0.8045 - val_loss: 16.8895 - val_accuracy: 0.6111\n",
            "Epoch 163/200\n",
            "5/5 [==============================] - 4s 873ms/step - loss: 5.4329 - accuracy: 0.8496 - val_loss: 7.9138 - val_accuracy: 0.8611\n",
            "Epoch 164/200\n",
            "5/5 [==============================] - 4s 619ms/step - loss: 4.5793 - accuracy: 0.8421 - val_loss: 13.2461 - val_accuracy: 0.7778\n",
            "Epoch 165/200\n",
            "5/5 [==============================] - 4s 683ms/step - loss: 6.2108 - accuracy: 0.8496 - val_loss: 6.1560 - val_accuracy: 0.7778\n",
            "Epoch 166/200\n",
            "5/5 [==============================] - 4s 770ms/step - loss: 2.9828 - accuracy: 0.8872 - val_loss: 25.4556 - val_accuracy: 0.7222\n",
            "Epoch 167/200\n",
            "5/5 [==============================] - 4s 618ms/step - loss: 4.1382 - accuracy: 0.8195 - val_loss: 10.7414 - val_accuracy: 0.7500\n",
            "Epoch 168/200\n",
            "5/5 [==============================] - 4s 758ms/step - loss: 5.2074 - accuracy: 0.8346 - val_loss: 24.4496 - val_accuracy: 0.6667\n",
            "Epoch 169/200\n",
            "5/5 [==============================] - 4s 770ms/step - loss: 6.1679 - accuracy: 0.8421 - val_loss: 11.1377 - val_accuracy: 0.7778\n",
            "Epoch 170/200\n",
            "5/5 [==============================] - 4s 673ms/step - loss: 7.4640 - accuracy: 0.7744 - val_loss: 23.4423 - val_accuracy: 0.6389\n",
            "Epoch 171/200\n",
            "5/5 [==============================] - 4s 767ms/step - loss: 4.2593 - accuracy: 0.8346 - val_loss: 9.8836 - val_accuracy: 0.6389\n",
            "Epoch 172/200\n",
            "5/5 [==============================] - 4s 693ms/step - loss: 4.8525 - accuracy: 0.8722 - val_loss: 17.2400 - val_accuracy: 0.7222\n",
            "Epoch 173/200\n",
            "5/5 [==============================] - 4s 916ms/step - loss: 5.7096 - accuracy: 0.7744 - val_loss: 22.9029 - val_accuracy: 0.6389\n",
            "Epoch 174/200\n",
            "5/5 [==============================] - 4s 766ms/step - loss: 4.9445 - accuracy: 0.8195 - val_loss: 12.2374 - val_accuracy: 0.7222\n",
            "Epoch 175/200\n",
            "5/5 [==============================] - 4s 665ms/step - loss: 6.5868 - accuracy: 0.8571 - val_loss: 15.6769 - val_accuracy: 0.5556\n",
            "Epoch 176/200\n",
            "5/5 [==============================] - 4s 879ms/step - loss: 3.1157 - accuracy: 0.8722 - val_loss: 23.0657 - val_accuracy: 0.5278\n",
            "Epoch 177/200\n",
            "5/5 [==============================] - 4s 613ms/step - loss: 2.6956 - accuracy: 0.8947 - val_loss: 25.7659 - val_accuracy: 0.4444\n",
            "Epoch 178/200\n",
            "5/5 [==============================] - 4s 686ms/step - loss: 3.6120 - accuracy: 0.8797 - val_loss: 17.7774 - val_accuracy: 0.5556\n",
            "Epoch 179/200\n",
            "5/5 [==============================] - 4s 886ms/step - loss: 4.8365 - accuracy: 0.8195 - val_loss: 19.8181 - val_accuracy: 0.6667\n"
          ]
        }
      ]
    },
    {
      "cell_type": "code",
      "metadata": {
        "id": "-L8j7JAzwT8o"
      },
      "source": [
        "import time\n",
        "import os\n",
        "\n",
        "def saveModel_path(model_dir=\"SAVED_MODELS\"):\n",
        "    os.makedirs(model_dir, exist_ok=True)\n",
        "    fileName = time.strftime(\"Model_%Y_%m_%d_%H_%M_%S_.h5\")    \n",
        "    model_path = os.path.join(model_dir, fileName)\n",
        "    print(f\"your model will be saved at the following location\\n{model_path}\")\n",
        "    return model_path"
      ],
      "execution_count": null,
      "outputs": []
    },
    {
      "cell_type": "code",
      "source": [
        "model.save(saveModel_path())"
      ],
      "metadata": {
        "colab": {
          "base_uri": "https://localhost:8080/"
        },
        "id": "bR5gcJ5Jzs-Y",
        "outputId": "5c913fe1-0f49-4cf0-f161-842f3fd6548b"
      },
      "execution_count": null,
      "outputs": [
        {
          "output_type": "stream",
          "name": "stdout",
          "text": [
            "your model will be saved at the following location\n",
            "SAVED_MODELS/Model_2022_07_07_18_05_10_.h5\n"
          ]
        }
      ]
    }
  ]
}